{
 "cells": [
  {
   "cell_type": "markdown",
   "id": "54ff292f-d8b1-4f52-ab0f-dfd5fc5263af",
   "metadata": {},
   "source": [
    "# Inport"
   ]
  },
  {
   "cell_type": "code",
   "execution_count": 1,
   "id": "dace882f-6e16-4310-999f-8583f0ca2daa",
   "metadata": {},
   "outputs": [
    {
     "name": "stderr",
     "output_type": "stream",
     "text": [
      "/home/mas/anaconda3/envs/SelfRecon/lib/python3.8/site-packages/tqdm/auto.py:22: TqdmWarning: IProgress not found. Please update jupyter and ipywidgets. See https://ipywidgets.readthedocs.io/en/stable/user_install.html\n",
      "  from .autonotebook import tqdm as notebook_tqdm\n"
     ]
    }
   ],
   "source": [
    "import torch\n",
    "import numpy as np\n",
    "from dataset.dataset import getDatasetAndLoader\n",
    "from model import getOptNet\n",
    "from pyhocon import ConfigFactory,HOCONConverter\n",
    "import argparse\n",
    "import trimesh\n",
    "import os\n",
    "import os.path as osp\n",
    "from MCAcc import Seg3dLossless\n",
    "import utils"
   ]
  },
  {
   "cell_type": "markdown",
   "id": "0bec93d8-29f4-49f3-b6d1-998d09750967",
   "metadata": {},
   "source": [
    "# parameters"
   ]
  },
  {
   "cell_type": "code",
   "execution_count": 10,
   "id": "a0ffc405-0d28-49e1-9a95-ba2043d26b33",
   "metadata": {},
   "outputs": [],
   "source": [
    "parser = argparse.ArgumentParser(description='neu video body rec')\n",
    "parser.add_argument('--gpu-ids',nargs='+',type=int,metavar='IDs',\n",
    "\t\t\t\t\thelp='gpu ids') # metavar: Alternate display name for the argument as shown in help \n",
    "parser.add_argument('--conf',default=None,metavar='M',\n",
    "\t\t\t\t\thelp='config file')\n",
    "parser.add_argument('--data',default=None,metavar='M',\n",
    "\t\t\t\t\thelp='data root')\n",
    "parser.add_argument('--model',default=None,metavar='M',\n",
    "\t\t\t\t\thelp='pretrained scene model')\n",
    "parser.add_argument('--model-rm-prefix',nargs='+',type=str,metavar='rm prefix', help='rm model prefix')\n",
    "parser.add_argument('--sdf-model',default=None,metavar='M',\n",
    "\t\t\t\t\thelp='substitute sdf model')\n",
    "parser.add_argument('--save-folder',default=None,metavar='M',help='save folder')\n",
    "args = parser.parse_args(args=[])\n"
   ]
  },
  {
   "cell_type": "code",
   "execution_count": null,
   "id": "5bbbd082-77eb-4d6a-885a-db1e9957daf1",
   "metadata": {},
   "outputs": [],
   "source": []
  }
 ],
 "metadata": {
  "kernelspec": {
   "display_name": "SelfRecon",
   "language": "python",
   "name": "selfrecon"
  },
  "language_info": {
   "codemirror_mode": {
    "name": "ipython",
    "version": 3
   },
   "file_extension": ".py",
   "mimetype": "text/x-python",
   "name": "python",
   "nbconvert_exporter": "python",
   "pygments_lexer": "ipython3",
   "version": "3.8.12"
  }
 },
 "nbformat": 4,
 "nbformat_minor": 5
}
